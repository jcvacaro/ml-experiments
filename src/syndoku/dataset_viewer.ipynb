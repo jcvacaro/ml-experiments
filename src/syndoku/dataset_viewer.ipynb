{
 "cells": [
  {
   "cell_type": "code",
   "execution_count": 3,
   "metadata": {},
   "outputs": [],
   "source": [
    "import os, sys\n",
    "if '..' not in sys.path:\n",
    "    sys.path.insert(0, '..')\n",
    "\n",
    "from argparse import ArgumentParser\n",
    "from PIL import Image, ImageDraw\n",
    "import random\n",
    "from torchvision.transforms import functional as F\n",
    "from data import SyndokuData\n",
    "from train import add_argparse_args"
   ]
  },
  {
   "cell_type": "code",
   "execution_count": 4,
   "metadata": {},
   "outputs": [],
   "source": [
    "def plot_bbox(img, bboxes):\n",
    "    draw = ImageDraw.Draw(img)\n",
    "    for i in range(bboxes.shape[0]):\n",
    "        draw.rectangle(\n",
    "            xy=[bboxes[i][0], bboxes[i][1], bboxes[i][2], bboxes[i][3]],\n",
    "            #fill=(255, 255, 0),\n",
    "            outline = (255, 255, 0),\n",
    "            width = 2,\n",
    "        )\n",
    "    return img"
   ]
  },
  {
   "cell_type": "code",
   "execution_count": 5,
   "metadata": {},
   "outputs": [
    {
     "name": "stdout",
     "output_type": "stream",
     "text": [
      "dataset length: 4699\n"
     ]
    }
   ],
   "source": [
    "parser = ArgumentParser()\n",
    "parser = add_argparse_args(parser)\n",
    "args = parser.parse_args('')\n",
    "args.dataset_dir = '/Users/jvacaro/Workspace/jcvacaro/syndoku/dataset'\n",
    "data = SyndokuData(args)\n",
    "dataset = data.train_dataset()\n",
    "print('dataset length:', len(dataset))"
   ]
  },
  {
   "cell_type": "code",
   "execution_count": 9,
   "metadata": {},
   "outputs": [],
   "source": [
    "img, target = dataset[333]\n",
    "img = F.to_pil_image(img)\n",
    "img = plot_bbox(img, target['boxes'])\n",
    "img.show()"
   ]
  }
 ],
 "metadata": {
  "kernelspec": {
   "display_name": "kbcli-XIroZGRP-py3.10",
   "language": "python",
   "name": "python3"
  },
  "language_info": {
   "codemirror_mode": {
    "name": "ipython",
    "version": 3
   },
   "file_extension": ".py",
   "mimetype": "text/x-python",
   "name": "python",
   "nbconvert_exporter": "python",
   "pygments_lexer": "ipython3",
   "version": "3.10.8"
  },
  "orig_nbformat": 4,
  "vscode": {
   "interpreter": {
    "hash": "7ed98bedb381d3587fc30972dc0a9b3f1f24df44b779e8cadeacb5c3e61536c9"
   }
  }
 },
 "nbformat": 4,
 "nbformat_minor": 2
}
